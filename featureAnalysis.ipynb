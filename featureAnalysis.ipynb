{
 "cells": [
  {
   "cell_type": "code",
   "execution_count": 8,
   "metadata": {},
   "outputs": [],
   "source": [
    "import pandas as pd\n",
    "pd.set_option('display.max_columns', None)\n",
    "pd.set_option('display.max_rows', None)\n",
    "import seaborn as sns\n"
   ]
  },
  {
   "cell_type": "code",
   "execution_count": 10,
   "metadata": {},
   "outputs": [
    {
     "name": "stdout",
     "output_type": "stream",
     "text": [
      "                                   uuid  default  account_amount_added_12_24m  \\\n",
      "0  63f69b2c-8b1c-4740-b78d-52ed9a4515ac      0.0                            0   \n",
      "1  0e961183-8c15-4470-9a5e-07a1bd207661      0.0                            0   \n",
      "2  d8edaae6-4368-44e0-941e-8328f203e64e      0.0                            0   \n",
      "3  0095dfb6-a886-4e2a-b056-15ef45fdb0ef      0.0                            0   \n",
      "4  c8f8b835-5647-4506-bf15-49105d8af30b      0.0                            0   \n",
      "\n",
      "   account_days_in_dc_12_24m  account_days_in_rem_12_24m  \\\n",
      "0                        0.0                         0.0   \n",
      "1                        0.0                         0.0   \n",
      "2                        0.0                         0.0   \n",
      "3                        NaN                         NaN   \n",
      "4                        0.0                         0.0   \n",
      "\n",
      "   account_days_in_term_12_24m  account_incoming_debt_vs_paid_0_24m  \\\n",
      "0                          0.0                                  0.0   \n",
      "1                          0.0                                  NaN   \n",
      "2                          0.0                                  NaN   \n",
      "3                          NaN                                  NaN   \n",
      "4                          0.0                                  NaN   \n",
      "\n",
      "   account_status  account_worst_status_0_3m  account_worst_status_12_24m  \\\n",
      "0             1.0                        1.0                          NaN   \n",
      "1             1.0                        1.0                          1.0   \n",
      "2             NaN                        NaN                          NaN   \n",
      "3             NaN                        NaN                          NaN   \n",
      "4             NaN                        NaN                          NaN   \n",
      "\n",
      "   account_worst_status_3_6m  account_worst_status_6_12m  age  \\\n",
      "0                        1.0                         NaN   20   \n",
      "1                        1.0                         1.0   50   \n",
      "2                        NaN                         NaN   22   \n",
      "3                        NaN                         NaN   36   \n",
      "4                        NaN                         NaN   25   \n",
      "\n",
      "   avg_payment_span_0_12m  avg_payment_span_0_3m  \\\n",
      "0               12.692308               8.333333   \n",
      "1               25.833333              25.000000   \n",
      "2               20.000000              18.000000   \n",
      "3                4.687500               4.888889   \n",
      "4               13.000000              13.000000   \n",
      "\n",
      "                            merchant_category   merchant_group  has_paid  \\\n",
      "0                         Dietary supplements  Health & Beauty      True   \n",
      "1                           Books & Magazines    Entertainment      True   \n",
      "2                   Diversified entertainment    Entertainment      True   \n",
      "3                   Diversified entertainment    Entertainment      True   \n",
      "4  Electronic equipment & Related accessories      Electronics      True   \n",
      "\n",
      "   max_paid_inv_0_12m  max_paid_inv_0_24m name_in_email  \\\n",
      "0             31638.0             31638.0      no_match   \n",
      "1             13749.0             13749.0           F+L   \n",
      "2             29890.0             29890.0          L1+F   \n",
      "3             40040.0             40040.0          F1+L   \n",
      "4              7100.0              7100.0           F+L   \n",
      "\n",
      "   num_active_div_by_paid_inv_0_12m  num_active_inv  num_arch_dc_0_12m  \\\n",
      "0                          0.153846               2                  0   \n",
      "1                          0.000000               0                  0   \n",
      "2                          0.071429               1                  0   \n",
      "3                          0.031250               1                  0   \n",
      "4                          0.000000               0                  0   \n",
      "\n",
      "   num_arch_dc_12_24m  num_arch_ok_0_12m  num_arch_ok_12_24m  \\\n",
      "0                   0                 13                  14   \n",
      "1                   0                  9                  19   \n",
      "2                   0                 11                   0   \n",
      "3                   0                 31                  21   \n",
      "4                   0                  1                   0   \n",
      "\n",
      "   num_arch_rem_0_12m  num_arch_written_off_0_12m  \\\n",
      "0                   0                         0.0   \n",
      "1                   3                         0.0   \n",
      "2                   3                         0.0   \n",
      "3                   0                         0.0   \n",
      "4                   0                         0.0   \n",
      "\n",
      "   num_arch_written_off_12_24m  num_unpaid_bills  status_last_archived_0_24m  \\\n",
      "0                          0.0                 2                           1   \n",
      "1                          0.0                 0                           1   \n",
      "2                          0.0                 1                           1   \n",
      "3                          0.0                 1                           1   \n",
      "4                          0.0                 0                           1   \n",
      "\n",
      "   status_2nd_last_archived_0_24m  status_3rd_last_archived_0_24m  \\\n",
      "0                               1                               1   \n",
      "1                               1                               1   \n",
      "2                               1                               1   \n",
      "3                               1                               1   \n",
      "4                               0                               0   \n",
      "\n",
      "   status_max_archived_0_6_months  status_max_archived_0_12_months  \\\n",
      "0                               1                                1   \n",
      "1                               1                                2   \n",
      "2                               1                                2   \n",
      "3                               1                                1   \n",
      "4                               1                                1   \n",
      "\n",
      "   status_max_archived_0_24_months  recovery_debt  \\\n",
      "0                                1              0   \n",
      "1                                2              0   \n",
      "2                                2              0   \n",
      "3                                1              0   \n",
      "4                                1              0   \n",
      "\n",
      "   sum_capital_paid_account_0_12m  sum_capital_paid_account_12_24m  \\\n",
      "0                               0                                0   \n",
      "1                               0                                0   \n",
      "2                               0                                0   \n",
      "3                               0                                0   \n",
      "4                               0                                0   \n",
      "\n",
      "   sum_paid_inv_0_12m  time_hours  worst_status_active_inv  \n",
      "0              178839    9.653333                      1.0  \n",
      "1               49014   13.181389                      NaN  \n",
      "2              124839   11.561944                      1.0  \n",
      "3              324676   15.751111                      1.0  \n",
      "4                7100   12.698611                      NaN  \n"
     ]
    }
   ],
   "source": [
    "df = pd.read_csv(\"/Users/andreatamburri/Documents/Github/default-predictor/dataset.csv\", delimiter = \";\")\n",
    "print(df.head())"
   ]
  },
  {
   "cell_type": "code",
   "execution_count": 4,
   "metadata": {},
   "outputs": [
    {
     "name": "stdout",
     "output_type": "stream",
     "text": [
      "Mean Default:  0.014314928425357873\n"
     ]
    }
   ],
   "source": [
    "print(\"Mean Default: \", df['default'].mean())\n",
    "#skewed distribution towards left --> not default"
   ]
  },
  {
   "cell_type": "code",
   "execution_count": 5,
   "metadata": {},
   "outputs": [
    {
     "name": "stdout",
     "output_type": "stream",
     "text": [
      "            default  account_amount_added_12_24m  account_days_in_dc_12_24m  \\\n",
      "count  89976.000000                 9.997600e+04               88140.000000   \n",
      "mean       0.014315                 1.225515e+04                   0.223043   \n",
      "std        0.118786                 3.548148e+04                   5.808117   \n",
      "min        0.000000                 0.000000e+00                   0.000000   \n",
      "25%        0.000000                 0.000000e+00                   0.000000   \n",
      "50%        0.000000                 0.000000e+00                   0.000000   \n",
      "75%        0.000000                 4.937250e+03                   0.000000   \n",
      "max        1.000000                 1.128775e+06                 365.000000   \n",
      "\n",
      "       account_days_in_rem_12_24m  account_days_in_term_12_24m  \\\n",
      "count                88140.000000                 88140.000000   \n",
      "mean                     5.044622                     0.286896   \n",
      "std                     22.863971                     2.929910   \n",
      "min                      0.000000                     0.000000   \n",
      "25%                      0.000000                     0.000000   \n",
      "50%                      0.000000                     0.000000   \n",
      "75%                      0.000000                     0.000000   \n",
      "max                    365.000000                    97.000000   \n",
      "\n",
      "       account_incoming_debt_vs_paid_0_24m  account_status  \\\n",
      "count                         40661.000000    45603.000000   \n",
      "mean                              1.331292        1.042168   \n",
      "std                              26.482299        0.202713   \n",
      "min                               0.000000        1.000000   \n",
      "25%                               0.000000        1.000000   \n",
      "50%                               0.152082        1.000000   \n",
      "75%                               0.662952        1.000000   \n",
      "max                            3914.000000        4.000000   \n",
      "\n",
      "       account_worst_status_0_3m  account_worst_status_12_24m  \\\n",
      "count               45603.000000                 33215.000000   \n",
      "mean                    1.172905                     1.337348   \n",
      "std                     0.420142                     0.575043   \n",
      "min                     1.000000                     1.000000   \n",
      "25%                     1.000000                     1.000000   \n",
      "50%                     1.000000                     1.000000   \n",
      "75%                     1.000000                     2.000000   \n",
      "max                     4.000000                     4.000000   \n",
      "\n",
      "       account_worst_status_3_6m  account_worst_status_6_12m           age  \\\n",
      "count               42274.000000                39626.000000  99976.000000   \n",
      "mean                    1.185291                    1.253142     36.016284   \n",
      "std                     0.443309                    0.505559     13.001306   \n",
      "min                     1.000000                    1.000000     18.000000   \n",
      "25%                     1.000000                    1.000000     25.000000   \n",
      "50%                     1.000000                    1.000000     34.000000   \n",
      "75%                     1.000000                    1.000000     45.000000   \n",
      "max                     4.000000                    4.000000    100.000000   \n",
      "\n",
      "       avg_payment_span_0_12m  avg_payment_span_0_3m  max_paid_inv_0_12m  \\\n",
      "count            76140.000000           50671.000000        99976.000000   \n",
      "mean                17.971473              14.989786         9203.654217   \n",
      "std                 12.751066              10.297420        13512.167229   \n",
      "min                  0.000000               0.000000            0.000000   \n",
      "25%                 10.800000               8.400000         2000.000000   \n",
      "50%                 14.909091              13.000000         6052.000000   \n",
      "75%                 21.000000              18.285714        11380.000000   \n",
      "max                260.000000              87.000000       279000.000000   \n",
      "\n",
      "       max_paid_inv_0_24m  num_active_div_by_paid_inv_0_12m  num_active_inv  \\\n",
      "count        99976.000000                      77037.000000    99976.000000   \n",
      "mean         11215.120819                          0.114840        0.599404   \n",
      "std          15256.414937                          0.293483        1.550026   \n",
      "min              0.000000                          0.000000        0.000000   \n",
      "25%           3350.000000                          0.000000        0.000000   \n",
      "50%           7580.000000                          0.000000        0.000000   \n",
      "75%          13783.000000                          0.100000        1.000000   \n",
      "max         538500.000000                          9.000000       47.000000   \n",
      "\n",
      "       num_arch_dc_0_12m  num_arch_dc_12_24m  num_arch_ok_0_12m  \\\n",
      "count       99976.000000        99976.000000       99976.000000   \n",
      "mean            0.061745            0.059364           7.275826   \n",
      "std             0.374691            0.366224          16.030369   \n",
      "min             0.000000            0.000000           0.000000   \n",
      "25%             0.000000            0.000000           0.000000   \n",
      "50%             0.000000            0.000000           2.000000   \n",
      "75%             0.000000            0.000000           7.000000   \n",
      "max            17.000000           13.000000         261.000000   \n",
      "\n",
      "       num_arch_ok_12_24m  num_arch_rem_0_12m  num_arch_written_off_0_12m  \\\n",
      "count        99976.000000        99976.000000                81898.000000   \n",
      "mean             6.369799            0.469443                    0.000122   \n",
      "std             15.350244            1.360349                    0.011049   \n",
      "min              0.000000            0.000000                    0.000000   \n",
      "25%              0.000000            0.000000                    0.000000   \n",
      "50%              2.000000            0.000000                    0.000000   \n",
      "75%              6.000000            0.000000                    0.000000   \n",
      "max            313.000000           42.000000                    1.000000   \n",
      "\n",
      "       num_arch_written_off_12_24m  num_unpaid_bills  \\\n",
      "count                 81898.000000      99976.000000   \n",
      "mean                      0.000159          2.141564   \n",
      "std                       0.014407          6.300978   \n",
      "min                       0.000000          0.000000   \n",
      "25%                       0.000000          0.000000   \n",
      "50%                       0.000000          0.000000   \n",
      "75%                       0.000000          2.000000   \n",
      "max                       2.000000        182.000000   \n",
      "\n",
      "       status_last_archived_0_24m  status_2nd_last_archived_0_24m  \\\n",
      "count                99976.000000                    99976.000000   \n",
      "mean                     0.923202                        0.827519   \n",
      "std                      0.569530                        0.622812   \n",
      "min                      0.000000                        0.000000   \n",
      "25%                      1.000000                        0.000000   \n",
      "50%                      1.000000                        1.000000   \n",
      "75%                      1.000000                        1.000000   \n",
      "max                      5.000000                        5.000000   \n",
      "\n",
      "       status_3rd_last_archived_0_24m  status_max_archived_0_6_months  \\\n",
      "count                    99976.000000                    99976.000000   \n",
      "mean                         0.744299                        0.800582   \n",
      "std                          0.634912                        0.719946   \n",
      "min                          0.000000                        0.000000   \n",
      "25%                          0.000000                        0.000000   \n",
      "50%                          1.000000                        1.000000   \n",
      "75%                          1.000000                        1.000000   \n",
      "max                          5.000000                        3.000000   \n",
      "\n",
      "       status_max_archived_0_12_months  status_max_archived_0_24_months  \\\n",
      "count                     99976.000000                     99976.000000   \n",
      "mean                          1.052233                         1.226164   \n",
      "std                           0.786121                         0.833502   \n",
      "min                           0.000000                         0.000000   \n",
      "25%                           1.000000                         1.000000   \n",
      "50%                           1.000000                         1.000000   \n",
      "75%                           1.000000                         2.000000   \n",
      "max                           5.000000                         5.000000   \n",
      "\n",
      "       recovery_debt  sum_capital_paid_account_0_12m  \\\n",
      "count   99976.000000                    99976.000000   \n",
      "mean        4.035429                    10816.065386   \n",
      "std       163.934564                    26463.972170   \n",
      "min         0.000000                        0.000000   \n",
      "25%         0.000000                        0.000000   \n",
      "50%         0.000000                        0.000000   \n",
      "75%         0.000000                     9029.750000   \n",
      "max     36479.000000                   571475.000000   \n",
      "\n",
      "       sum_capital_paid_account_12_24m  sum_paid_inv_0_12m    time_hours  \\\n",
      "count                     99976.000000        9.997600e+04  99976.000000   \n",
      "mean                       6542.895325        3.920880e+04     15.329780   \n",
      "std                       19041.223585        9.064929e+04      5.031360   \n",
      "min                           0.000000        0.000000e+00      0.000278   \n",
      "25%                           0.000000        2.600000e+03     11.622708   \n",
      "50%                           0.000000        1.599500e+04     15.792778   \n",
      "75%                          85.000000        4.384425e+04     19.542014   \n",
      "max                      341859.000000        2.962870e+06     23.999722   \n",
      "\n",
      "       worst_status_active_inv  \n",
      "count             30461.000000  \n",
      "mean                  1.121762  \n",
      "std                   0.343660  \n",
      "min                   1.000000  \n",
      "25%                   1.000000  \n",
      "50%                   1.000000  \n",
      "75%                   1.000000  \n",
      "max                   3.000000  \n"
     ]
    }
   ],
   "source": [
    "#10% of records doesn't contain default --> this is for API\n",
    "print(df.describe())"
   ]
  },
  {
   "cell_type": "code",
   "execution_count": 10,
   "metadata": {},
   "outputs": [
    {
     "data": {
      "text/plain": [
       "uuid                                    object\n",
       "default                                float64\n",
       "account_amount_added_12_24m              int64\n",
       "account_days_in_dc_12_24m              float64\n",
       "account_days_in_rem_12_24m             float64\n",
       "account_days_in_term_12_24m            float64\n",
       "account_incoming_debt_vs_paid_0_24m    float64\n",
       "account_status                         float64\n",
       "account_worst_status_0_3m              float64\n",
       "account_worst_status_12_24m            float64\n",
       "account_worst_status_3_6m              float64\n",
       "account_worst_status_6_12m             float64\n",
       "age                                      int64\n",
       "avg_payment_span_0_12m                 float64\n",
       "avg_payment_span_0_3m                  float64\n",
       "merchant_category                       object\n",
       "merchant_group                          object\n",
       "has_paid                                  bool\n",
       "max_paid_inv_0_12m                     float64\n",
       "max_paid_inv_0_24m                     float64\n",
       "name_in_email                           object\n",
       "num_active_div_by_paid_inv_0_12m       float64\n",
       "num_active_inv                           int64\n",
       "num_arch_dc_0_12m                        int64\n",
       "num_arch_dc_12_24m                       int64\n",
       "num_arch_ok_0_12m                        int64\n",
       "num_arch_ok_12_24m                       int64\n",
       "num_arch_rem_0_12m                       int64\n",
       "num_arch_written_off_0_12m             float64\n",
       "num_arch_written_off_12_24m            float64\n",
       "num_unpaid_bills                         int64\n",
       "status_last_archived_0_24m               int64\n",
       "status_2nd_last_archived_0_24m           int64\n",
       "status_3rd_last_archived_0_24m           int64\n",
       "status_max_archived_0_6_months           int64\n",
       "status_max_archived_0_12_months          int64\n",
       "status_max_archived_0_24_months          int64\n",
       "recovery_debt                            int64\n",
       "sum_capital_paid_account_0_12m           int64\n",
       "sum_capital_paid_account_12_24m          int64\n",
       "sum_paid_inv_0_12m                       int64\n",
       "time_hours                             float64\n",
       "worst_status_active_inv                float64\n",
       "dtype: object"
      ]
     },
     "execution_count": 10,
     "metadata": {},
     "output_type": "execute_result"
    }
   ],
   "source": [
    "df.dtypes\n",
    "#to process merchant_category merchant_group and has_paid"
   ]
  },
  {
   "cell_type": "code",
   "execution_count": 6,
   "metadata": {},
   "outputs": [
    {
     "name": "stdout",
     "output_type": "stream",
     "text": [
      " \n",
      "Count total NaN at each column in a DataFrame : \n",
      "\n",
      " uuid                                       0\n",
      "default                                10000\n",
      "account_amount_added_12_24m                0\n",
      "account_days_in_dc_12_24m              11836\n",
      "account_days_in_rem_12_24m             11836\n",
      "account_days_in_term_12_24m            11836\n",
      "account_incoming_debt_vs_paid_0_24m    59315\n",
      "account_status                         54373\n",
      "account_worst_status_0_3m              54373\n",
      "account_worst_status_12_24m            66761\n",
      "account_worst_status_3_6m              57702\n",
      "account_worst_status_6_12m             60350\n",
      "age                                        0\n",
      "avg_payment_span_0_12m                 23836\n",
      "avg_payment_span_0_3m                  49305\n",
      "merchant_category                          0\n",
      "merchant_group                             0\n",
      "has_paid                                   0\n",
      "max_paid_inv_0_12m                         0\n",
      "max_paid_inv_0_24m                         0\n",
      "name_in_email                              0\n",
      "num_active_div_by_paid_inv_0_12m       22939\n",
      "num_active_inv                             0\n",
      "num_arch_dc_0_12m                          0\n",
      "num_arch_dc_12_24m                         0\n",
      "num_arch_ok_0_12m                          0\n",
      "num_arch_ok_12_24m                         0\n",
      "num_arch_rem_0_12m                         0\n",
      "num_arch_written_off_0_12m             18078\n",
      "num_arch_written_off_12_24m            18078\n",
      "num_unpaid_bills                           0\n",
      "status_last_archived_0_24m                 0\n",
      "status_2nd_last_archived_0_24m             0\n",
      "status_3rd_last_archived_0_24m             0\n",
      "status_max_archived_0_6_months             0\n",
      "status_max_archived_0_12_months            0\n",
      "status_max_archived_0_24_months            0\n",
      "recovery_debt                              0\n",
      "sum_capital_paid_account_0_12m             0\n",
      "sum_capital_paid_account_12_24m            0\n",
      "sum_paid_inv_0_12m                         0\n",
      "time_hours                                 0\n",
      "worst_status_active_inv                69515\n",
      "dtype: int64\n"
     ]
    },
    {
     "data": {
      "text/plain": [
       "'\\naccount_days_in_dc_12_24m              11836 mean\\naccount_days_in_rem_12_24m             11836 mean\\naccount_days_in_term_12_24m            11836 mean\\naccount_incoming_debt_vs_paid_0_24m    59315 no\\naccount_status                         54373  put nan as 0\\naccount_worst_status_0_3m              54373  put nan as 0\\naccount_worst_status_12_24m            66761  put nan as 0\\naccount_worst_status_3_6m              57702  put nan as 0\\naccount_worst_status_6_12m             60350  put nan as 0\\navg_payment_span_0_12m                 23836  mean\\navg_payment_span_0_3m                  49305  mean\\nnum_active_div_by_paid_inv_0_12m       22939  mean\\nnum_arch_written_off_0_12m             18078  put nan as 0\\nnum_arch_written_off_12_24m            18078  put nan as 0\\nworst_status_active_inv                69515   put nan as 0\\n'"
      ]
     },
     "execution_count": 6,
     "metadata": {},
     "output_type": "execute_result"
    }
   ],
   "source": [
    "# Count total NaN at each column in a DataFrame\n",
    "print(\" \\nCount total NaN at each column in a DataFrame : \\n\\n\",\n",
    "      df.isnull().sum())\n",
    "\n",
    "'''\n",
    "account_days_in_dc_12_24m              11836 mean\n",
    "account_days_in_rem_12_24m             11836 mean\n",
    "account_days_in_term_12_24m            11836 mean\n",
    "account_incoming_debt_vs_paid_0_24m    59315 no\n",
    "account_status                         54373  put nan as 0\n",
    "account_worst_status_0_3m              54373  put nan as 0\n",
    "account_worst_status_12_24m            66761  put nan as 0\n",
    "account_worst_status_3_6m              57702  put nan as 0\n",
    "account_worst_status_6_12m             60350  put nan as 0\n",
    "avg_payment_span_0_12m                 23836  mean\n",
    "avg_payment_span_0_3m                  49305  mean\n",
    "num_active_div_by_paid_inv_0_12m       22939  mean\n",
    "num_arch_written_off_0_12m             18078  put nan as 0\n",
    "num_arch_written_off_12_24m            18078  put nan as 0\n",
    "worst_status_active_inv                69515   put nan as 0\n",
    "'''"
   ]
  },
  {
   "cell_type": "code",
   "execution_count": 11,
   "metadata": {},
   "outputs": [],
   "source": [
    "target_0 = df[df[\"default\"]==0]\n",
    "target_1 = df[df[\"default\"]==1]"
   ]
  },
  {
   "cell_type": "code",
   "execution_count": 12,
   "metadata": {},
   "outputs": [
    {
     "name": "stdout",
     "output_type": "stream",
     "text": [
      "       account_days_in_dc_12_24m\n",
      "count               78096.000000\n",
      "mean                    0.171648\n",
      "std                     5.000260\n",
      "min                     0.000000\n",
      "25%                     0.000000\n",
      "50%                     0.000000\n",
      "75%                     0.000000\n",
      "max                   362.000000\n",
      "       account_days_in_dc_12_24m\n",
      "count                1197.000000\n",
      "mean                    3.197995\n",
      "std                    21.442738\n",
      "min                     0.000000\n",
      "25%                     0.000000\n",
      "50%                     0.000000\n",
      "75%                     0.000000\n",
      "max                   322.000000\n"
     ]
    },
    {
     "name": "stderr",
     "output_type": "stream",
     "text": [
      "/Users/andreatamburri/opt/anaconda3/lib/python3.8/site-packages/seaborn/distributions.py:2551: FutureWarning: `distplot` is a deprecated function and will be removed in a future version. Please adapt your code to use either `displot` (a figure-level function with similar flexibility) or `kdeplot` (an axes-level function for kernel density plots).\n",
      "  warnings.warn(msg, FutureWarning)\n",
      "/Users/andreatamburri/opt/anaconda3/lib/python3.8/site-packages/seaborn/distributions.py:2055: FutureWarning: The `axis` variable is no longer used and will be removed. Instead, assign variables directly to `x` or `y`.\n",
      "  warnings.warn(msg, FutureWarning)\n",
      "/Users/andreatamburri/opt/anaconda3/lib/python3.8/site-packages/seaborn/distributions.py:2551: FutureWarning: `distplot` is a deprecated function and will be removed in a future version. Please adapt your code to use either `displot` (a figure-level function with similar flexibility) or `kdeplot` (an axes-level function for kernel density plots).\n",
      "  warnings.warn(msg, FutureWarning)\n",
      "/Users/andreatamburri/opt/anaconda3/lib/python3.8/site-packages/seaborn/distributions.py:2055: FutureWarning: The `axis` variable is no longer used and will be removed. Instead, assign variables directly to `x` or `y`.\n",
      "  warnings.warn(msg, FutureWarning)\n"
     ]
    },
    {
     "data": {
      "text/plain": [
       "<AxesSubplot:ylabel='Density'>"
      ]
     },
     "execution_count": 12,
     "metadata": {},
     "output_type": "execute_result"
    },
    {
     "data": {
      "image/png": "[encoded data removed]",
      "text/plain": [
       "<Figure size 432x288 with 1 Axes>"
      ]
     },
     "metadata": {
      "needs_background": "light"
     },
     "output_type": "display_data"
    }
   ],
   "source": [
    "\n",
    "#mean highly superior in default, interesting, I'll deal with mean\n",
    "\n",
    "print(target_0[['account_days_in_dc_12_24m']].describe())\n",
    "print(target_1[['account_days_in_dc_12_24m']].describe())\n",
    "sns.distplot(target_0[['account_days_in_dc_12_24m']], hist=False, rug=True)\n",
    "sns.distplot(target_1[['account_days_in_dc_12_24m']], hist=False, rug=True)"
   ]
  },
  {
   "cell_type": "code",
   "execution_count": 13,
   "metadata": {},
   "outputs": [
    {
     "name": "stdout",
     "output_type": "stream",
     "text": [
      "       account_status\n",
      "count    40206.000000\n",
      "mean         1.038154\n",
      "std          0.192217\n",
      "min          1.000000\n",
      "25%          1.000000\n",
      "50%          1.000000\n",
      "75%          1.000000\n",
      "max          3.000000\n",
      "       account_status\n",
      "count      836.000000\n",
      "mean         1.210526\n",
      "std          0.439035\n",
      "min          1.000000\n",
      "25%          1.000000\n",
      "50%          1.000000\n",
      "75%          1.000000\n",
      "max          4.000000\n"
     ]
    },
    {
     "name": "stderr",
     "output_type": "stream",
     "text": [
      "/Users/andreatamburri/opt/anaconda3/lib/python3.8/site-packages/seaborn/distributions.py:2551: FutureWarning: `distplot` is a deprecated function and will be removed in a future version. Please adapt your code to use either `displot` (a figure-level function with similar flexibility) or `kdeplot` (an axes-level function for kernel density plots).\n",
      "  warnings.warn(msg, FutureWarning)\n",
      "/Users/andreatamburri/opt/anaconda3/lib/python3.8/site-packages/seaborn/distributions.py:2055: FutureWarning: The `axis` variable is no longer used and will be removed. Instead, assign variables directly to `x` or `y`.\n",
      "  warnings.warn(msg, FutureWarning)\n",
      "/Users/andreatamburri/opt/anaconda3/lib/python3.8/site-packages/seaborn/distributions.py:2551: FutureWarning: `distplot` is a deprecated function and will be removed in a future version. Please adapt your code to use either `displot` (a figure-level function with similar flexibility) or `kdeplot` (an axes-level function for kernel density plots).\n",
      "  warnings.warn(msg, FutureWarning)\n",
      "/Users/andreatamburri/opt/anaconda3/lib/python3.8/site-packages/seaborn/distributions.py:2055: FutureWarning: The `axis` variable is no longer used and will be removed. Instead, assign variables directly to `x` or `y`.\n",
      "  warnings.warn(msg, FutureWarning)\n"
     ]
    },
    {
     "data": {
      "text/plain": [
       "<AxesSubplot:ylabel='Density'>"
      ]
     },
     "execution_count": 13,
     "metadata": {},
     "output_type": "execute_result"
    },
    {
     "data": {
      "image/png": "[encoded data removed]",
      "text/plain": [
       "<Figure size 432x288 with 1 Axes>"
      ]
     },
     "metadata": {
      "needs_background": "light"
     },
     "output_type": "display_data"
    }
   ],
   "source": [
    "#it could be informative, since max for default it's 4, I can manage with a 0 the nan\n",
    "print(target_0[['account_status']].describe())\n",
    "print(target_1[['account_status']].describe())\n",
    "sns.distplot(target_0[['account_status']], hist=False, rug=True)\n",
    "sns.distplot(target_1[['account_status']], hist=False, rug=True)"
   ]
  },
  {
   "cell_type": "code",
   "execution_count": 14,
   "metadata": {},
   "outputs": [
    {
     "name": "stdout",
     "output_type": "stream",
     "text": [
      "       account_worst_status_0_3m\n",
      "count               40206.000000\n",
      "mean                    1.163632\n",
      "std                     0.406221\n",
      "min                     1.000000\n",
      "25%                     1.000000\n",
      "50%                     1.000000\n",
      "75%                     1.000000\n",
      "max                     4.000000\n",
      "       account_worst_status_0_3m\n",
      "count                 836.000000\n",
      "mean                    1.637560\n",
      "std                     0.730172\n",
      "min                     1.000000\n",
      "25%                     1.000000\n",
      "50%                     2.000000\n",
      "75%                     2.000000\n",
      "max                     4.000000\n"
     ]
    },
    {
     "name": "stderr",
     "output_type": "stream",
     "text": [
      "/Users/andreatamburri/opt/anaconda3/lib/python3.8/site-packages/seaborn/distributions.py:2551: FutureWarning: `distplot` is a deprecated function and will be removed in a future version. Please adapt your code to use either `displot` (a figure-level function with similar flexibility) or `kdeplot` (an axes-level function for kernel density plots).\n",
      "  warnings.warn(msg, FutureWarning)\n",
      "/Users/andreatamburri/opt/anaconda3/lib/python3.8/site-packages/seaborn/distributions.py:2055: FutureWarning: The `axis` variable is no longer used and will be removed. Instead, assign variables directly to `x` or `y`.\n",
      "  warnings.warn(msg, FutureWarning)\n",
      "/Users/andreatamburri/opt/anaconda3/lib/python3.8/site-packages/seaborn/distributions.py:2551: FutureWarning: `distplot` is a deprecated function and will be removed in a future version. Please adapt your code to use either `displot` (a figure-level function with similar flexibility) or `kdeplot` (an axes-level function for kernel density plots).\n",
      "  warnings.warn(msg, FutureWarning)\n",
      "/Users/andreatamburri/opt/anaconda3/lib/python3.8/site-packages/seaborn/distributions.py:2055: FutureWarning: The `axis` variable is no longer used and will be removed. Instead, assign variables directly to `x` or `y`.\n",
      "  warnings.warn(msg, FutureWarning)\n"
     ]
    },
    {
     "data": {
      "text/plain": [
       "<AxesSubplot:ylabel='Density'>"
      ]
     },
     "execution_count": 14,
     "metadata": {},
     "output_type": "execute_result"
    },
    {
     "data": {
      "image/png": "[encoded data removed]",
      "text/plain": [
       "<Figure size 432x288 with 1 Axes>"
      ]
     },
     "metadata": {
      "needs_background": "light"
     },
     "output_type": "display_data"
    }
   ],
   "source": [
    "#it could be informative, since mean its slightly superior, I can manage with a 0 the nan\n",
    "print(target_0[['account_worst_status_0_3m']].describe())\n",
    "print(target_1[['account_worst_status_0_3m']].describe())\n",
    "sns.distplot(target_0[['account_worst_status_0_3m']], hist=False, rug=True)\n",
    "sns.distplot(target_1[['account_worst_status_0_3m']], hist=False, rug=True)"
   ]
  },
  {
   "cell_type": "code",
   "execution_count": 15,
   "metadata": {},
   "outputs": [
    {
     "name": "stdout",
     "output_type": "stream",
     "text": [
      "       account_worst_status_12_24m\n",
      "count                 29381.000000\n",
      "mean                      1.326878\n",
      "std                       0.560884\n",
      "min                       1.000000\n",
      "25%                       1.000000\n",
      "50%                       1.000000\n",
      "75%                       2.000000\n",
      "max                       4.000000\n",
      "       account_worst_status_12_24m\n",
      "count                   540.000000\n",
      "mean                      2.011111\n",
      "std                       0.886859\n",
      "min                       1.000000\n",
      "25%                       1.000000\n",
      "50%                       2.000000\n",
      "75%                       2.000000\n",
      "max                       4.000000\n"
     ]
    },
    {
     "name": "stderr",
     "output_type": "stream",
     "text": [
      "/Users/andreatamburri/opt/anaconda3/lib/python3.8/site-packages/seaborn/distributions.py:2551: FutureWarning: `distplot` is a deprecated function and will be removed in a future version. Please adapt your code to use either `displot` (a figure-level function with similar flexibility) or `kdeplot` (an axes-level function for kernel density plots).\n",
      "  warnings.warn(msg, FutureWarning)\n",
      "/Users/andreatamburri/opt/anaconda3/lib/python3.8/site-packages/seaborn/distributions.py:2055: FutureWarning: The `axis` variable is no longer used and will be removed. Instead, assign variables directly to `x` or `y`.\n",
      "  warnings.warn(msg, FutureWarning)\n",
      "/Users/andreatamburri/opt/anaconda3/lib/python3.8/site-packages/seaborn/distributions.py:2551: FutureWarning: `distplot` is a deprecated function and will be removed in a future version. Please adapt your code to use either `displot` (a figure-level function with similar flexibility) or `kdeplot` (an axes-level function for kernel density plots).\n",
      "  warnings.warn(msg, FutureWarning)\n",
      "/Users/andreatamburri/opt/anaconda3/lib/python3.8/site-packages/seaborn/distributions.py:2055: FutureWarning: The `axis` variable is no longer used and will be removed. Instead, assign variables directly to `x` or `y`.\n",
      "  warnings.warn(msg, FutureWarning)\n"
     ]
    },
    {
     "data": {
      "text/plain": [
       "<AxesSubplot:ylabel='Density'>"
      ]
     },
     "execution_count": 15,
     "metadata": {},
     "output_type": "execute_result"
    },
    {
     "data": {
      "image/png": "[encoded data removed]",
      "text/plain": [
       "<Figure size 432x288 with 1 Axes>"
      ]
     },
     "metadata": {
      "needs_background": "light"
     },
     "output_type": "display_data"
    }
   ],
   "source": [
    "#it could be informative, since mean its slightly superior, I can manage with a 0 the nan\n",
    "print(target_0[['account_worst_status_12_24m']].describe())\n",
    "print(target_1[['account_worst_status_12_24m']].describe())\n",
    "sns.distplot(target_0[['account_worst_status_12_24m']], hist=False, rug=True)\n",
    "sns.distplot(target_1[['account_worst_status_12_24m']], hist=False, rug=True)"
   ]
  },
  {
   "cell_type": "code",
   "execution_count": 16,
   "metadata": {},
   "outputs": [
    {
     "name": "stdout",
     "output_type": "stream",
     "text": [
      "       account_worst_status_3_6m\n",
      "count               37320.000000\n",
      "mean                    1.175831\n",
      "std                     0.426242\n",
      "min                     1.000000\n",
      "25%                     1.000000\n",
      "50%                     1.000000\n",
      "75%                     1.000000\n",
      "max                     4.000000\n",
      "       account_worst_status_3_6m\n",
      "count                 718.000000\n",
      "mean                    1.685237\n",
      "std                     0.832452\n",
      "min                     1.000000\n",
      "25%                     1.000000\n",
      "50%                     2.000000\n",
      "75%                     2.000000\n",
      "max                     4.000000\n"
     ]
    },
    {
     "name": "stderr",
     "output_type": "stream",
     "text": [
      "/Users/andreatamburri/opt/anaconda3/lib/python3.8/site-packages/seaborn/distributions.py:2551: FutureWarning: `distplot` is a deprecated function and will be removed in a future version. Please adapt your code to use either `displot` (a figure-level function with similar flexibility) or `kdeplot` (an axes-level function for kernel density plots).\n",
      "  warnings.warn(msg, FutureWarning)\n",
      "/Users/andreatamburri/opt/anaconda3/lib/python3.8/site-packages/seaborn/distributions.py:2055: FutureWarning: The `axis` variable is no longer used and will be removed. Instead, assign variables directly to `x` or `y`.\n",
      "  warnings.warn(msg, FutureWarning)\n",
      "/Users/andreatamburri/opt/anaconda3/lib/python3.8/site-packages/seaborn/distributions.py:2551: FutureWarning: `distplot` is a deprecated function and will be removed in a future version. Please adapt your code to use either `displot` (a figure-level function with similar flexibility) or `kdeplot` (an axes-level function for kernel density plots).\n",
      "  warnings.warn(msg, FutureWarning)\n",
      "/Users/andreatamburri/opt/anaconda3/lib/python3.8/site-packages/seaborn/distributions.py:2055: FutureWarning: The `axis` variable is no longer used and will be removed. Instead, assign variables directly to `x` or `y`.\n",
      "  warnings.warn(msg, FutureWarning)\n"
     ]
    },
    {
     "data": {
      "text/plain": [
       "<AxesSubplot:ylabel='Density'>"
      ]
     },
     "execution_count": 16,
     "metadata": {},
     "output_type": "execute_result"
    },
    {
     "data": {
      "image/png": "[encoded data removed]",
      "text/plain": [
       "<Figure size 432x288 with 1 Axes>"
      ]
     },
     "metadata": {
      "needs_background": "light"
     },
     "output_type": "display_data"
    }
   ],
   "source": [
    "#it could be informative, since mean its slightly superior, I can manage with a 0 the nan\n",
    "print(target_0[['account_worst_status_3_6m']].describe())\n",
    "print(target_1[['account_worst_status_3_6m']].describe())\n",
    "sns.distplot(target_0[['account_worst_status_3_6m']], hist=False, rug=True)\n",
    "sns.distplot(target_1[['account_worst_status_3_6m']], hist=False, rug=True)"
   ]
  },
  {
   "cell_type": "code",
   "execution_count": 17,
   "metadata": {},
   "outputs": [
    {
     "name": "stdout",
     "output_type": "stream",
     "text": [
      "       account_worst_status_6_12m\n",
      "count                35007.000000\n",
      "mean                     1.242323\n",
      "std                      0.488319\n",
      "min                      1.000000\n",
      "25%                      1.000000\n",
      "50%                      1.000000\n",
      "75%                      1.000000\n",
      "max                      4.000000\n",
      "       account_worst_status_6_12m\n",
      "count                  656.000000\n",
      "mean                     1.879573\n",
      "std                      0.915920\n",
      "min                      1.000000\n",
      "25%                      1.000000\n",
      "50%                      2.000000\n",
      "75%                      2.000000\n",
      "max                      4.000000\n"
     ]
    },
    {
     "name": "stderr",
     "output_type": "stream",
     "text": [
      "/Users/andreatamburri/opt/anaconda3/lib/python3.8/site-packages/seaborn/distributions.py:2551: FutureWarning: `distplot` is a deprecated function and will be removed in a future version. Please adapt your code to use either `displot` (a figure-level function with similar flexibility) or `kdeplot` (an axes-level function for kernel density plots).\n",
      "  warnings.warn(msg, FutureWarning)\n",
      "/Users/andreatamburri/opt/anaconda3/lib/python3.8/site-packages/seaborn/distributions.py:2055: FutureWarning: The `axis` variable is no longer used and will be removed. Instead, assign variables directly to `x` or `y`.\n",
      "  warnings.warn(msg, FutureWarning)\n",
      "/Users/andreatamburri/opt/anaconda3/lib/python3.8/site-packages/seaborn/distributions.py:2551: FutureWarning: `distplot` is a deprecated function and will be removed in a future version. Please adapt your code to use either `displot` (a figure-level function with similar flexibility) or `kdeplot` (an axes-level function for kernel density plots).\n",
      "  warnings.warn(msg, FutureWarning)\n",
      "/Users/andreatamburri/opt/anaconda3/lib/python3.8/site-packages/seaborn/distributions.py:2055: FutureWarning: The `axis` variable is no longer used and will be removed. Instead, assign variables directly to `x` or `y`.\n",
      "  warnings.warn(msg, FutureWarning)\n"
     ]
    },
    {
     "data": {
      "text/plain": [
       "<AxesSubplot:ylabel='Density'>"
      ]
     },
     "execution_count": 17,
     "metadata": {},
     "output_type": "execute_result"
    },
    {
     "data": {
      "image/png": "[encoded data removed]",
      "text/plain": [
       "<Figure size 432x288 with 1 Axes>"
      ]
     },
     "metadata": {
      "needs_background": "light"
     },
     "output_type": "display_data"
    }
   ],
   "source": [
    "#it could be informative, since mean its slightly superior, I can manage with a 0 the nan\n",
    "print(target_0[['account_worst_status_6_12m']].describe())\n",
    "print(target_1[['account_worst_status_6_12m']].describe())\n",
    "sns.distplot(target_0[['account_worst_status_6_12m']], hist=False, rug=True)\n",
    "sns.distplot(target_1[['account_worst_status_6_12m']], hist=False, rug=True)"
   ]
  },
  {
   "cell_type": "code",
   "execution_count": 18,
   "metadata": {},
   "outputs": [
    {
     "name": "stdout",
     "output_type": "stream",
     "text": [
      "       avg_payment_span_0_12m\n",
      "count            67838.000000\n",
      "mean                17.726766\n",
      "std                 12.167796\n",
      "min                  0.000000\n",
      "25%                 10.755556\n",
      "50%                 14.833333\n",
      "75%                 21.000000\n",
      "max                224.000000\n",
      "       avg_payment_span_0_12m\n",
      "count              670.000000\n",
      "mean                43.408737\n",
      "std                 33.490758\n",
      "min                  0.000000\n",
      "25%                 18.541667\n",
      "50%                 37.000000\n",
      "75%                 57.000000\n",
      "max                260.000000\n"
     ]
    },
    {
     "name": "stderr",
     "output_type": "stream",
     "text": [
      "/Users/andreatamburri/opt/anaconda3/lib/python3.8/site-packages/seaborn/distributions.py:2551: FutureWarning: `distplot` is a deprecated function and will be removed in a future version. Please adapt your code to use either `displot` (a figure-level function with similar flexibility) or `kdeplot` (an axes-level function for kernel density plots).\n",
      "  warnings.warn(msg, FutureWarning)\n",
      "/Users/andreatamburri/opt/anaconda3/lib/python3.8/site-packages/seaborn/distributions.py:2055: FutureWarning: The `axis` variable is no longer used and will be removed. Instead, assign variables directly to `x` or `y`.\n",
      "  warnings.warn(msg, FutureWarning)\n",
      "/Users/andreatamburri/opt/anaconda3/lib/python3.8/site-packages/seaborn/distributions.py:2551: FutureWarning: `distplot` is a deprecated function and will be removed in a future version. Please adapt your code to use either `displot` (a figure-level function with similar flexibility) or `kdeplot` (an axes-level function for kernel density plots).\n",
      "  warnings.warn(msg, FutureWarning)\n",
      "/Users/andreatamburri/opt/anaconda3/lib/python3.8/site-packages/seaborn/distributions.py:2055: FutureWarning: The `axis` variable is no longer used and will be removed. Instead, assign variables directly to `x` or `y`.\n",
      "  warnings.warn(msg, FutureWarning)\n"
     ]
    },
    {
     "data": {
      "text/plain": [
       "<AxesSubplot:ylabel='Density'>"
      ]
     },
     "execution_count": 18,
     "metadata": {},
     "output_type": "execute_result"
    },
    {
     "data": {
      "image/png": "[encoded data removed]",
      "text/plain": [
       "<Figure size 432x288 with 1 Axes>"
      ]
     },
     "metadata": {
      "needs_background": "light"
     },
     "output_type": "display_data"
    }
   ],
   "source": [
    "#it' really interesting, I can manage with a mean the nan\n",
    "print(target_0[['avg_payment_span_0_12m']].describe())\n",
    "print(target_1[['avg_payment_span_0_12m']].describe())\n",
    "sns.distplot(target_0[['avg_payment_span_0_12m']], hist=False, rug=True)\n",
    "sns.distplot(target_1[['avg_payment_span_0_12m']], hist=False, rug=True)\n"
   ]
  },
  {
   "cell_type": "code",
   "execution_count": 19,
   "metadata": {},
   "outputs": [
    {
     "name": "stdout",
     "output_type": "stream",
     "text": [
      "       avg_payment_span_0_3m\n",
      "count           45335.000000\n",
      "mean               14.903550\n",
      "std                10.171053\n",
      "min                 0.000000\n",
      "25%                 8.333333\n",
      "50%                13.000000\n",
      "75%                18.000000\n",
      "max                84.000000\n",
      "       avg_payment_span_0_3m\n",
      "count             259.000000\n",
      "mean               24.914134\n",
      "std                17.987244\n",
      "min                 0.000000\n",
      "25%                11.416667\n",
      "50%                20.500000\n",
      "75%                37.000000\n",
      "max                86.000000\n"
     ]
    },
    {
     "name": "stderr",
     "output_type": "stream",
     "text": [
      "/Users/andreatamburri/opt/anaconda3/lib/python3.8/site-packages/seaborn/distributions.py:2551: FutureWarning: `distplot` is a deprecated function and will be removed in a future version. Please adapt your code to use either `displot` (a figure-level function with similar flexibility) or `kdeplot` (an axes-level function for kernel density plots).\n",
      "  warnings.warn(msg, FutureWarning)\n",
      "/Users/andreatamburri/opt/anaconda3/lib/python3.8/site-packages/seaborn/distributions.py:2055: FutureWarning: The `axis` variable is no longer used and will be removed. Instead, assign variables directly to `x` or `y`.\n",
      "  warnings.warn(msg, FutureWarning)\n",
      "/Users/andreatamburri/opt/anaconda3/lib/python3.8/site-packages/seaborn/distributions.py:2551: FutureWarning: `distplot` is a deprecated function and will be removed in a future version. Please adapt your code to use either `displot` (a figure-level function with similar flexibility) or `kdeplot` (an axes-level function for kernel density plots).\n",
      "  warnings.warn(msg, FutureWarning)\n",
      "/Users/andreatamburri/opt/anaconda3/lib/python3.8/site-packages/seaborn/distributions.py:2055: FutureWarning: The `axis` variable is no longer used and will be removed. Instead, assign variables directly to `x` or `y`.\n",
      "  warnings.warn(msg, FutureWarning)\n"
     ]
    },
    {
     "data": {
      "text/plain": [
       "<AxesSubplot:ylabel='Density'>"
      ]
     },
     "execution_count": 19,
     "metadata": {},
     "output_type": "execute_result"
    },
    {
     "data": {
      "image/png": "[encoded data removed]",
      "text/plain": [
       "<Figure size 432x288 with 1 Axes>"
      ]
     },
     "metadata": {
      "needs_background": "light"
     },
     "output_type": "display_data"
    }
   ],
   "source": [
    "#it' really interesting, I can manage with a mean the nan\n",
    "print(target_0[['avg_payment_span_0_3m']].describe())\n",
    "print(target_1[['avg_payment_span_0_3m']].describe())\n",
    "sns.distplot(target_0[['avg_payment_span_0_3m']], hist=False, rug=True)\n",
    "sns.distplot(target_1[['avg_payment_span_0_3m']], hist=False, rug=True)\n",
    "\n"
   ]
  },
  {
   "cell_type": "code",
   "execution_count": 20,
   "metadata": {},
   "outputs": [
    {
     "name": "stdout",
     "output_type": "stream",
     "text": [
      "       num_active_div_by_paid_inv_0_12m\n",
      "count                      68603.000000\n",
      "mean                           0.110547\n",
      "std                            0.273332\n",
      "min                            0.000000\n",
      "25%                            0.000000\n",
      "50%                            0.000000\n",
      "75%                            0.100000\n",
      "max                            6.000000\n",
      "       num_active_div_by_paid_inv_0_12m\n",
      "count                        715.000000\n",
      "mean                           0.510002\n",
      "std                            1.018189\n",
      "min                            0.000000\n",
      "25%                            0.000000\n",
      "50%                            0.142857\n",
      "75%                            0.666667\n",
      "max                            9.000000\n"
     ]
    },
    {
     "name": "stderr",
     "output_type": "stream",
     "text": [
      "/Users/andreatamburri/opt/anaconda3/lib/python3.8/site-packages/seaborn/distributions.py:2551: FutureWarning: `distplot` is a deprecated function and will be removed in a future version. Please adapt your code to use either `displot` (a figure-level function with similar flexibility) or `kdeplot` (an axes-level function for kernel density plots).\n",
      "  warnings.warn(msg, FutureWarning)\n",
      "/Users/andreatamburri/opt/anaconda3/lib/python3.8/site-packages/seaborn/distributions.py:2055: FutureWarning: The `axis` variable is no longer used and will be removed. Instead, assign variables directly to `x` or `y`.\n",
      "  warnings.warn(msg, FutureWarning)\n",
      "/Users/andreatamburri/opt/anaconda3/lib/python3.8/site-packages/seaborn/distributions.py:2551: FutureWarning: `distplot` is a deprecated function and will be removed in a future version. Please adapt your code to use either `displot` (a figure-level function with similar flexibility) or `kdeplot` (an axes-level function for kernel density plots).\n",
      "  warnings.warn(msg, FutureWarning)\n",
      "/Users/andreatamburri/opt/anaconda3/lib/python3.8/site-packages/seaborn/distributions.py:2055: FutureWarning: The `axis` variable is no longer used and will be removed. Instead, assign variables directly to `x` or `y`.\n",
      "  warnings.warn(msg, FutureWarning)\n"
     ]
    },
    {
     "data": {
      "text/plain": [
       "<AxesSubplot:ylabel='Density'>"
      ]
     },
     "execution_count": 20,
     "metadata": {},
     "output_type": "execute_result"
    },
    {
     "data": {
      "image/png": "[encoded data removed]",
      "text/plain": [
       "<Figure size 432x288 with 1 Axes>"
      ]
     },
     "metadata": {
      "needs_background": "light"
     },
     "output_type": "display_data"
    }
   ],
   "source": [
    "#really left skewed for both, slighthly superior for default=1.. manage with mean\n",
    "print(target_0[['num_active_div_by_paid_inv_0_12m']].describe())\n",
    "print(target_1[['num_active_div_by_paid_inv_0_12m']].describe())\n",
    "sns.distplot(target_0[['num_active_div_by_paid_inv_0_12m']], hist=False, rug=True)\n",
    "sns.distplot(target_1[['num_active_div_by_paid_inv_0_12m']], hist=False, rug=True)\n",
    "\n"
   ]
  },
  {
   "cell_type": "code",
   "execution_count": 21,
   "metadata": {},
   "outputs": [
    {
     "name": "stdout",
     "output_type": "stream",
     "text": [
      "       num_arch_written_off_0_12m\n",
      "count                72843.000000\n",
      "mean                     0.000082\n",
      "std                      0.009075\n",
      "min                      0.000000\n",
      "25%                      0.000000\n",
      "50%                      0.000000\n",
      "75%                      0.000000\n",
      "max                      1.000000\n",
      "       num_arch_written_off_0_12m\n",
      "count                  828.000000\n",
      "mean                     0.002415\n",
      "std                      0.049118\n",
      "min                      0.000000\n",
      "25%                      0.000000\n",
      "50%                      0.000000\n",
      "75%                      0.000000\n",
      "max                      1.000000\n"
     ]
    },
    {
     "name": "stderr",
     "output_type": "stream",
     "text": [
      "/Users/andreatamburri/opt/anaconda3/lib/python3.8/site-packages/seaborn/distributions.py:2551: FutureWarning: `distplot` is a deprecated function and will be removed in a future version. Please adapt your code to use either `displot` (a figure-level function with similar flexibility) or `kdeplot` (an axes-level function for kernel density plots).\n",
      "  warnings.warn(msg, FutureWarning)\n",
      "/Users/andreatamburri/opt/anaconda3/lib/python3.8/site-packages/seaborn/distributions.py:2055: FutureWarning: The `axis` variable is no longer used and will be removed. Instead, assign variables directly to `x` or `y`.\n",
      "  warnings.warn(msg, FutureWarning)\n",
      "/Users/andreatamburri/opt/anaconda3/lib/python3.8/site-packages/seaborn/distributions.py:2551: FutureWarning: `distplot` is a deprecated function and will be removed in a future version. Please adapt your code to use either `displot` (a figure-level function with similar flexibility) or `kdeplot` (an axes-level function for kernel density plots).\n",
      "  warnings.warn(msg, FutureWarning)\n",
      "/Users/andreatamburri/opt/anaconda3/lib/python3.8/site-packages/seaborn/distributions.py:2055: FutureWarning: The `axis` variable is no longer used and will be removed. Instead, assign variables directly to `x` or `y`.\n",
      "  warnings.warn(msg, FutureWarning)\n"
     ]
    },
    {
     "data": {
      "text/plain": [
       "<AxesSubplot:ylabel='Density'>"
      ]
     },
     "execution_count": 21,
     "metadata": {},
     "output_type": "execute_result"
    },
    {
     "data": {
      "image/png": "[encoded data removed]",
      "text/plain": [
       "<Figure size 432x288 with 1 Axes>"
      ]
     },
     "metadata": {
      "needs_background": "light"
     },
     "output_type": "display_data"
    }
   ],
   "source": [
    "#not informative.. manage with 0 not to loose 15K of data\n",
    "print(target_0[['num_arch_written_off_0_12m']].describe())\n",
    "print(target_1[['num_arch_written_off_0_12m']].describe())\n",
    "sns.distplot(target_0[['num_arch_written_off_0_12m']], hist=False, rug=True)\n",
    "sns.distplot(target_1[['num_arch_written_off_0_12m']], hist=False, rug=True)\n",
    "                "
   ]
  },
  {
   "cell_type": "code",
   "execution_count": 22,
   "metadata": {},
   "outputs": [
    {
     "name": "stdout",
     "output_type": "stream",
     "text": [
      "       num_arch_written_off_12_24m\n",
      "count                 72843.000000\n",
      "mean                      0.000137\n",
      "std                       0.012834\n",
      "min                       0.000000\n",
      "25%                       0.000000\n",
      "50%                       0.000000\n",
      "75%                       0.000000\n",
      "max                       2.000000\n",
      "       num_arch_written_off_12_24m\n",
      "count                        828.0\n",
      "mean                           0.0\n",
      "std                            0.0\n",
      "min                            0.0\n",
      "25%                            0.0\n",
      "50%                            0.0\n",
      "75%                            0.0\n",
      "max                            0.0\n"
     ]
    },
    {
     "name": "stderr",
     "output_type": "stream",
     "text": [
      "/Users/andreatamburri/opt/anaconda3/lib/python3.8/site-packages/seaborn/distributions.py:2551: FutureWarning: `distplot` is a deprecated function and will be removed in a future version. Please adapt your code to use either `displot` (a figure-level function with similar flexibility) or `kdeplot` (an axes-level function for kernel density plots).\n",
      "  warnings.warn(msg, FutureWarning)\n",
      "/Users/andreatamburri/opt/anaconda3/lib/python3.8/site-packages/seaborn/distributions.py:2055: FutureWarning: The `axis` variable is no longer used and will be removed. Instead, assign variables directly to `x` or `y`.\n",
      "  warnings.warn(msg, FutureWarning)\n",
      "/Users/andreatamburri/opt/anaconda3/lib/python3.8/site-packages/seaborn/distributions.py:2551: FutureWarning: `distplot` is a deprecated function and will be removed in a future version. Please adapt your code to use either `displot` (a figure-level function with similar flexibility) or `kdeplot` (an axes-level function for kernel density plots).\n",
      "  warnings.warn(msg, FutureWarning)\n",
      "/Users/andreatamburri/opt/anaconda3/lib/python3.8/site-packages/seaborn/distributions.py:305: UserWarning: Dataset has 0 variance; skipping density estimate.\n",
      "  warnings.warn(msg, UserWarning)\n",
      "/Users/andreatamburri/opt/anaconda3/lib/python3.8/site-packages/seaborn/distributions.py:2055: FutureWarning: The `axis` variable is no longer used and will be removed. Instead, assign variables directly to `x` or `y`.\n",
      "  warnings.warn(msg, FutureWarning)\n"
     ]
    },
    {
     "data": {
      "text/plain": [
       "<AxesSubplot:ylabel='Density'>"
      ]
     },
     "execution_count": 22,
     "metadata": {},
     "output_type": "execute_result"
    },
    {
     "data": {
      "image/png": "[encoded data removed]",
      "text/plain": [
       "<Figure size 432x288 with 1 Axes>"
      ]
     },
     "metadata": {
      "needs_background": "light"
     },
     "output_type": "display_data"
    }
   ],
   "source": [
    "#really not informative, the default has just zeros, but i dont want to wast 15K of data.. manage with 0, risky maybe\n",
    "print(target_0[['num_arch_written_off_12_24m']].describe())\n",
    "print(target_1[['num_arch_written_off_12_24m']].describe())\n",
    "sns.distplot(target_0[['num_arch_written_off_12_24m']], hist=False, rug=True)\n",
    "sns.distplot(target_1[['num_arch_written_off_12_24m']], hist=False, rug=True)\n",
    "\n",
    "            "
   ]
  }
 ],
 "metadata": {
  "kernelspec": {
   "display_name": "Python 3",
   "language": "python",
   "name": "python3"
  },
  "language_info": {
   "codemirror_mode": {
    "name": "ipython",
    "version": 3
   },
   "file_extension": ".py",
   "mimetype": "text/x-python",
   "name": "python",
   "nbconvert_exporter": "python",
   "pygments_lexer": "ipython3",
   "version": "3.8.5"
  }
 },
 "nbformat": 4,
 "nbformat_minor": 4
}
